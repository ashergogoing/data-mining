{
 "cells": [
  {
   "cell_type": "code",
   "execution_count": 1,
   "id": "96b7980a",
   "metadata": {},
   "outputs": [],
   "source": [
    "import pandas as pd \n",
    "import numpy\n",
    "import csv\n",
    "from sklearn.model_selection import train_test_split\n",
    "from sklearn.feature_extraction.text import CountVectorizer\n",
    "from sklearn.metrics import accuracy_score\n",
    "from sklearn.neural_network import MLPClassifier"
   ]
  },
  {
   "cell_type": "code",
   "execution_count": 2,
   "id": "6d6c01be",
   "metadata": {},
   "outputs": [
    {
     "data": {
      "text/html": [
       "<div>\n",
       "<style scoped>\n",
       "    .dataframe tbody tr th:only-of-type {\n",
       "        vertical-align: middle;\n",
       "    }\n",
       "\n",
       "    .dataframe tbody tr th {\n",
       "        vertical-align: top;\n",
       "    }\n",
       "\n",
       "    .dataframe thead th {\n",
       "        text-align: right;\n",
       "    }\n",
       "</style>\n",
       "<table border=\"1\" class=\"dataframe\">\n",
       "  <thead>\n",
       "    <tr style=\"text-align: right;\">\n",
       "      <th></th>\n",
       "      <th>date</th>\n",
       "      <th>platform</th>\n",
       "      <th>text</th>\n",
       "      <th>person</th>\n",
       "      <th>truthfulness category</th>\n",
       "    </tr>\n",
       "  </thead>\n",
       "  <tbody>\n",
       "    <tr>\n",
       "      <th>0</th>\n",
       "      <td>November28,2022</td>\n",
       "      <td>a post</td>\n",
       "      <td>The 2021 infrastructure bill requires all new ...</td>\n",
       "      <td>Instagram posts</td>\n",
       "      <td>barely-true</td>\n",
       "    </tr>\n",
       "    <tr>\n",
       "      <th>1</th>\n",
       "      <td>November22,2022</td>\n",
       "      <td>Public statement</td>\n",
       "      <td>“A lot of the programs (that were) started dur...</td>\n",
       "      <td>Robin Vos</td>\n",
       "      <td>barely-true</td>\n",
       "    </tr>\n",
       "    <tr>\n",
       "      <th>2</th>\n",
       "      <td>November17,2022</td>\n",
       "      <td>a post</td>\n",
       "      <td>“Joe Biden is being investigated for human tra...</td>\n",
       "      <td>Instagram posts</td>\n",
       "      <td>false</td>\n",
       "    </tr>\n",
       "    <tr>\n",
       "      <th>3</th>\n",
       "      <td>November19,2022</td>\n",
       "      <td>a speech</td>\n",
       "      <td>Herschel Walker “wants a nationwide ban on abo...</td>\n",
       "      <td>Raphael Warnock</td>\n",
       "      <td>mostly-true</td>\n",
       "    </tr>\n",
       "    <tr>\n",
       "      <th>4</th>\n",
       "      <td>November20,2022</td>\n",
       "      <td>a tweet</td>\n",
       "      <td>The Club Q shooting was a “false flag.”</td>\n",
       "      <td>Tweets</td>\n",
       "      <td>pants-fire</td>\n",
       "    </tr>\n",
       "  </tbody>\n",
       "</table>\n",
       "</div>"
      ],
      "text/plain": [
       "              date          platform  \\\n",
       "0  November28,2022            a post   \n",
       "1  November22,2022  Public statement   \n",
       "2  November17,2022            a post   \n",
       "3  November19,2022          a speech   \n",
       "4  November20,2022           a tweet   \n",
       "\n",
       "                                                text           person  \\\n",
       "0  The 2021 infrastructure bill requires all new ...  Instagram posts   \n",
       "1  “A lot of the programs (that were) started dur...        Robin Vos   \n",
       "2  “Joe Biden is being investigated for human tra...  Instagram posts   \n",
       "3  Herschel Walker “wants a nationwide ban on abo...  Raphael Warnock   \n",
       "4            The Club Q shooting was a “false flag.”           Tweets   \n",
       "\n",
       "  truthfulness category  \n",
       "0           barely-true  \n",
       "1           barely-true  \n",
       "2                 false  \n",
       "3           mostly-true  \n",
       "4            pants-fire  "
      ]
     },
     "execution_count": 2,
     "metadata": {},
     "output_type": "execute_result"
    }
   ],
   "source": [
    "df=pd.read_csv(\"data.csv\", encoding= 'utf-8')\n",
    "df.head()"
   ]
  },
  {
   "cell_type": "code",
   "execution_count": 3,
   "id": "6d4c77fd",
   "metadata": {},
   "outputs": [],
   "source": [
    "import numpy as np\n",
    "df = df.replace({'truthfulness category': {'barely-true': 1,'mostly-true':1,'true':1, \n",
    "                                      'false': 0,'pants-fire':0,'false':0,'mostly-false':0}})\n",
    "\n",
    "df = df[df['truthfulness category'].apply(lambda x: isinstance(x, int))]"
   ]
  },
  {
   "cell_type": "code",
   "execution_count": 32,
   "id": "c49d9a55",
   "metadata": {},
   "outputs": [],
   "source": [
    "from sklearn.pipeline import Pipeline\n",
    "from sklearn.feature_extraction.text import CountVectorizer\n",
    "from sklearn.feature_extraction.text import TfidfTransformer\n",
    "from sklearn.linear_model import SGDClassifier,LogisticRegression\n",
    "from sklearn.ensemble import RandomForestClassifier, AdaBoostClassifier, GradientBoostingClassifier,ExtraTreesClassifier\n",
    "pipeline_sgd = Pipeline([\n",
    "    ('vect', CountVectorizer()),\n",
    "    ('tfidf',  TfidfTransformer()),\n",
    "    ('lg',LogisticRegression())\n",
    "])"
   ]
  },
  {
   "cell_type": "code",
   "execution_count": 33,
   "id": "59cf198d",
   "metadata": {},
   "outputs": [],
   "source": [
    "X = df['text']\n",
    "Y = df['truthfulness category'].astype('category')\n",
    "from sklearn.model_selection import train_test_split\n",
    "X_train, X_test, y_train, y_test = train_test_split(X,Y,random_state = 0)\n"
   ]
  },
  {
   "cell_type": "code",
   "execution_count": 34,
   "id": "2b8d857b",
   "metadata": {},
   "outputs": [
    {
     "data": {
      "text/plain": [
       "0.7373461012311902"
      ]
     },
     "execution_count": 34,
     "metadata": {},
     "output_type": "execute_result"
    }
   ],
   "source": [
    "model = pipeline_sgd.fit(X_train, y_train)\n",
    "y_predict = model.predict(X_test)\n",
    "from sklearn.metrics import f1_score\n",
    "f1_score(y_test, y_predict)"
   ]
  },
  {
   "cell_type": "code",
   "execution_count": null,
   "id": "c77f6014",
   "metadata": {},
   "outputs": [],
   "source": []
  },
  {
   "cell_type": "code",
   "execution_count": null,
   "id": "63c28e72",
   "metadata": {},
   "outputs": [],
   "source": []
  }
 ],
 "metadata": {
  "kernelspec": {
   "display_name": "Python 3",
   "language": "python",
   "name": "python3"
  },
  "language_info": {
   "codemirror_mode": {
    "name": "ipython",
    "version": 3
   },
   "file_extension": ".py",
   "mimetype": "text/x-python",
   "name": "python",
   "nbconvert_exporter": "python",
   "pygments_lexer": "ipython3",
   "version": "3.8.8"
  },
  "vscode": {
   "interpreter": {
    "hash": "37e163d1eb5986bda159ba4a444431bd9eb1a15f5c169472e172b263c0a88adc"
   }
  }
 },
 "nbformat": 4,
 "nbformat_minor": 5
}
